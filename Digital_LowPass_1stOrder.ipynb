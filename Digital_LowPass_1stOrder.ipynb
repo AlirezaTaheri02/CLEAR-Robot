{
 "cells": [
  {
   "cell_type": "code",
   "execution_count": 2,
   "id": "15325aa9-6be5-46e8-b876-b3524b6abb05",
   "metadata": {},
   "outputs": [],
   "source": [
    "from scipy import signal\n",
    "import matplotlib.pyplot as plt\n",
    "import numpy as np\n",
    "import math"
   ]
  },
  {
   "cell_type": "markdown",
   "id": "51a128d6-36a8-496a-b0ba-627b10b14f6e",
   "metadata": {},
   "source": [
    "## 2. Low-pass filter transfer function\n",
    "\n",
    "* A cutoff frequency is selected and the transfer function for the low-pass filter is computed using <code>signal.TransferFunction</code>\n",
    "* The low-pass filter transfer function is\n",
    "$$H(s) = \\frac{\\omega_c}{s + \\omega_c}$$\n",
    "* The Bode plot shows the frequency response of $H$ by plotting the magnitude and phase of the frequency response\n",
    "* Low frequencies are not attenuated (this is the *pass band*)\n",
    "* High frequencies are attenutated (this is the *stop band*)\n"
   ]
  },
  {
   "cell_type": "code",
   "execution_count": null,
   "id": "5d49b6ed-845c-4a9a-92a8-19693d3b114b",
   "metadata": {},
   "outputs": [],
   "source": [
    "# Low-pass filter\n",
    "signalFreq = [2,60];\n",
    "signalMag = [5,0.4];\n",
    "cutoff_freq = 200; # Hertz\n",
    "\n",
    "w0 = 2*np.pi*cutoff_freq; # pole frequency (rad/s)\n",
    "num = w0        # transfer function numerator coefficients\n",
    "den = [1,w0]    # transfer function denominator coefficients\n",
    "lowPass = signal.TransferFunction(num,den) # Transfer function\n",
    "\n",
    "# Generate the bode plot\n",
    "w = np.logspace( np.log10(min(signalFreq)*2*np.pi/10), np.log10(max(signalFreq)*2*np.pi*10), 500 )\n",
    "w, mag, phase = signal.bode(lowPass,w)\n",
    "\n",
    "# Magnitude plot\n",
    "plt.figure()\n",
    "plt.semilogx(w, mag)\n",
    "for sf in signalFreq:\n",
    "    plt.semilogx([sf*2*np.pi,sf*2*np.pi],[min(mag),max(mag)],'k:')\n",
    "plt.axhline(-3, color='red', linestyle='--', label='-3 dB Line(CutOff)')\n",
    "plt.ylabel(\"Magnitude ($dB$)\")\n",
    "plt.xlim([min(w),max(w)])\n",
    "plt.ylim([min(mag),max(mag)])\n",
    "plt.legend(loc='upper right')\n",
    "\n",
    "# Phase plot\n",
    "plt.figure()\n",
    "plt.semilogx(w, phase)  # Bode phase plot\n",
    "plt.ylabel(\"Phase(Degree)\")\n",
    "plt.xlabel(\"omega(rad/s)\")\n",
    "plt.xlim([min(w),max(w)])\n",
    "plt.show()"
   ]
  },
  {
   "cell_type": "markdown",
   "id": "104ef2ac-258b-4d12-8c89-eb65d47d2b62",
   "metadata": {},
   "source": [
    "## 3. Discrete transfer function\n",
    "\n",
    "To implement the low-pass filter on hardware, you need to compute the discrete transfer function using the signal's sampling frequency.\n",
    "* The time step is $\\Delta t = 1/f_s$\n",
    "* Computing the discrete transfer function using Tustin's method, set $s = \\frac{2}{\\Delta t} \\left( \\frac{1-z^{-1}}{1+z^{-1}} \\right)$, so\n",
    "$$ H(z) = \\frac{\\omega_0}{\\frac{2}{\\Delta t} \\frac{1-z^{-1}}{1+z^{-1}}  + \\omega_0} = \\frac{\\Delta t \\omega_0 (z+1)}{(\\Delta t \\omega_0 + 2)z + \\Delta t \\omega_0 - 2} $$\n",
    "* You don't have to compute it by hand. The <code>to_discrete</code> method is used to compute the bilinear transform (Tustin's method)"
   ]
  },
  {
   "cell_type": "code",
   "execution_count": 13,
   "id": "5052d6d2-91fd-4158-baec-fcf618c90ac9",
   "metadata": {},
   "outputs": [
    {
     "name": "stdout",
     "output_type": "stream",
     "text": [
      "TransferFunctionDiscrete(\n",
      "array([0.0591174, 0.0591174]),\n",
      "array([ 1.        , -0.88176521]),\n",
      "dt: 0.001\n",
      ")\n"
     ]
    }
   ],
   "source": [
    "samplingFreq = 1000; # sampled at 1 kHz = 1000 samples / second\n",
    "dt = 1.0/samplingFreq;\n",
    "discreteLowPass = lowPass.to_discrete(dt,method='gbt',alpha=0.5)\n",
    "print(discreteLowPass)"
   ]
  },
  {
   "cell_type": "markdown",
   "id": "878d35bb-f43b-47e8-8ab9-a8839c9622f4",
   "metadata": {},
   "source": [
    "## 4. Filter coefficients\n",
    "\n",
    "We want to find the filter coefficients for the discrete update:\n",
    "$$y[n] = a_1 y[n-1] + a_2 y[n-2] + ... + b_0 x[n] + b_1 x[n-1] + ...$$\n",
    "\n",
    "The coefficients can be taken directly from the discrete transfer function of the filter in the form:\n",
    "$$H(z) = \\frac{b_0 + b_1 z^{-1} + b_2 z^{-2} + \\ldots}{1 - a_1 z^{-1} - a_2 z^{-2} + \\ldots}$$\n",
    "\n",
    "(This is a result of taking the Z-transform which is not shown here)\n",
    "\n",
    "Compare this to a transfer function with coefficients\n",
    "<code>\n",
    "num = [b_0, b_1, b_2]\n",
    "den = [1, a_1, a_2]\n",
    "</code>\n",
    "is \n",
    "$$H(z) = \\frac{b_0 z^2 + b_1 z + b_2}{z^2 + a_1 z + a_2}$$\n",
    "which is equivalent to\n",
    "$$H(z) = \\frac{b_0 + b_1 z^{-1} + b_2 z^{-2}}{1 + a_1 z^{-1} + a_2 z^{-2}}$$\n",
    "So you can take the coefficients in the same order that they are defined in the numerator and denominator of the transfer function object. The only difference is that the **coefficients in the denominator need a negative sign**.\n",
    "\n",
    "* To filter the signal, apply the filter using the discrete update\n",
    "* The filtered signal and filtered signal power spectrum are plotted alongside the unfiltered signal"
   ]
  },
  {
   "cell_type": "code",
   "execution_count": 11,
   "id": "a5c308a8-5558-4936-ba0d-d782219b7da8",
   "metadata": {},
   "outputs": [
    {
     "name": "stdout",
     "output_type": "stream",
     "text": [
      "Filter coefficients b_i: [0.0591174 0.0591174]\n",
      "Filter coefficients a_i: [0.88176521]\n"
     ]
    }
   ],
   "source": [
    "# The coefficients from the discrete form of the filter transfer function (but with a negative sign)\n",
    "b = discreteLowPass.num;\n",
    "a = -discreteLowPass.den;\n",
    "print(\"Filter coefficients b_i: \" + str(b))\n",
    "print(\"Filter coefficients a_i: \" + str(a[1:]))"
   ]
  },
  {
   "cell_type": "code",
   "execution_count": null,
   "id": "2acd6078-3cd2-4b94-84e2-455d73c1f792",
   "metadata": {},
   "outputs": [],
   "source": []
  }
 ],
 "metadata": {
  "kernelspec": {
   "display_name": "Python 3 (ipykernel)",
   "language": "python",
   "name": "python3"
  },
  "language_info": {
   "codemirror_mode": {
    "name": "ipython",
    "version": 3
   },
   "file_extension": ".py",
   "mimetype": "text/x-python",
   "name": "python",
   "nbconvert_exporter": "python",
   "pygments_lexer": "ipython3",
   "version": "3.12.2"
  }
 },
 "nbformat": 4,
 "nbformat_minor": 5
}
